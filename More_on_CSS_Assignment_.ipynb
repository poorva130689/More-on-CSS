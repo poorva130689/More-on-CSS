{
  "nbformat": 4,
  "nbformat_minor": 0,
  "metadata": {
    "colab": {
      "provenance": []
    },
    "kernelspec": {
      "name": "ir",
      "display_name": "R"
    },
    "language_info": {
      "name": "R"
    }
  },
  "cells": [
    {
      "cell_type": "code",
      "execution_count": null,
      "metadata": {
        "id": "xL2wU_jYjFMw"
      },
      "outputs": [],
      "source": []
    },
    {
      "cell_type": "markdown",
      "source": [
        "1.Creat a navigation bar similar to the below-mentioned image.The navigation bar must contain 5 navigation links that are properly placed within the navigation bar using the css box model . The navigation items must change their text color on hover.\n",
        "-  "
      ],
      "metadata": {
        "id": "rNbi7YznjREf"
      }
    },
    {
      "cell_type": "code",
      "source": [
        "<!DOCTYPE html>\n",
        "<html lang=\"en\">\n",
        "<head>\n",
        "<meta charset=\"UTF-8\">\n",
        "<meta name=\"viewport\" width=device-width,intial-scale=1.0\">h\n",
        "<title> Navigation bar</title>\n",
        "<style>\n",
        ".navbar {\n",
        "    background-color:blue;\n",
        "}\n",
        ".navbar {\n",
        "    overflow:auto;\n",
        "}\n",
        ".navbar li{\n",
        "    float:left;\n",
        "    list-style:none;\n",
        "    margin:13px 25px;\n",
        "}\n",
        ".navbar li a{\n",
        "    padding:7px 7px;\n",
        "    color:white;\n",
        "    text-decoration:none;\n",
        "}\n",
        ".navbar:hover{\n",
        "    background-color:red;\n",
        "    color:white;\n",
        "}\n",
        "</style>\n",
        "</head>\n",
        "<body>\n",
        "<header>\n",
        "<nav class=\"navbar\">\n",
        "<ul>\n",
        "<li><a href=\"\"> Home</a></li>\n",
        "<li><a href=\"\">About us</a></li>\n",
        "<li><a href=\"\">Contact</a></li>\n",
        "<li><a href=\"\">Blog</a></li>\n",
        "<li><a href=\"\">Login</a></li>\n",
        "</ul>\n",
        "</nav>\n",
        "</headre>\n",
        "</body>\n",
        "</html>\n",
        "\n"
      ],
      "metadata": {
        "id": "BghYtLuhktKB"
      },
      "execution_count": null,
      "outputs": []
    },
    {
      "cell_type": "markdown",
      "source": [
        "2.Create a div centered with an image and paragraph similar to the image mentioned below.\n",
        "-"
      ],
      "metadata": {
        "id": "YdMBMPB6pb2l"
      }
    },
    {
      "cell_type": "code",
      "source": [
        "!<DOCTYPE html>\n",
        "<html lang =\"en\">\n",
        "<head>\n",
        "<meta charset=\"UTF-8\">\n",
        "<meta name=\"viewport\" content = \"width=device-width,intial-scale1.0\">\n",
        "<title>PW image</title>\n",
        "<style>\n",
        "\n",
        "img {\n",
        "    width:100%;\n",
        "    max-width:200px;\n",
        "    position: absolute;\n",
        "    top:50%;\n",
        "    left:50%;\n",
        "    transform:translate [50%,50%]\n",
        "}\n",
        "</style>\n",
        "</head>\n",
        "<body>\n",
        "<img src=\"https://i.imgur.com/6oVk3bH.png\"alt=\"pw skills\">\n",
        "<p>\n",
        "<b>Course name</b>: PW skills full stack web development\n",
        "</p>\n",
        "</body>\n",
        "</html>\n",
        "\n"
      ],
      "metadata": {
        "id": "_TjD9va24kYC"
      },
      "execution_count": null,
      "outputs": []
    },
    {
      "cell_type": "markdown",
      "source": [
        "3. Create a navigation bar similar to question 1. For each navigation item use a different border style.\n",
        "  -"
      ],
      "metadata": {
        "id": "Jd6_oIFQ83CY"
      }
    },
    {
      "cell_type": "code",
      "source": [
        "<!DOCTYPE html>\n",
        "<html lang=\"en\">\n",
        "<head>\n",
        "<meta charset=\"UTF-8\">\n",
        "<meta name=\"viewport\" content=\"width=device-width,initial-scale=1.0\">\n",
        "<title> Navigation bar</title>\n",
        "<style>\n",
        ".navbar {\n",
        "    background-color:blue;\n",
        "}\n",
        ".navbar {\n",
        "    overflow:auto;\n",
        "}\n",
        ".navbar li {\n",
        "    float:left;\n",
        "    list-style:none;\n",
        "    margin:13px 25px;\n",
        "}\n",
        ".navbar li a {\n",
        "    padding:7px 7px;\n",
        "    color:white;\n",
        "    text decoration:none;\n",
        "}\n",
        ".navbar:hover {\n",
        "    background-color:red;\n",
        "    color:white;\n",
        "}\n",
        ".Home {\n",
        "    border:2px dotted white;\n",
        "}\n",
        ".About {\n",
        "    border:2px ridge orchid;\n",
        "}\n",
        ".Contact {\n",
        "    border:2px dashed brown;\n",
        "}\n",
        ".Blog {\n",
        "    border:2px double yellow;\n",
        "}\n",
        ".Login {\n",
        "    border:2px groove red;\n",
        "}\n",
        "</style>\n",
        "</head>\n",
        "<body>\n",
        "<header>\n",
        "<nav class=\"navbar\">\n",
        "<ul>\n",
        "<li class=\"Home\"><a href=\"\">Home</a></li>\n",
        "<li class=\"About us\"><a href=\"\">About us</a></li>\n",
        "<li class=\"Contact\"><a href=\"\">Contact</a></li>\n",
        "<li class=\"Blog\"><a href=\"\">Blog</a></li>\n",
        "<li class=\"Login\"><a href=\"\">Login</a></li>\n",
        "</ul>\n",
        "</nav>\n",
        "</header>\n",
        "</body>\n",
        "</html>\n"
      ],
      "metadata": {
        "id": "TYjXFPvo71FO"
      },
      "execution_count": null,
      "outputs": []
    },
    {
      "cell_type": "markdown",
      "source": [
        "4. Creat a simple webpage with an image and make the image circular using border-radius.\n",
        "-"
      ],
      "metadata": {
        "id": "QwIxKvy3ELBI"
      }
    },
    {
      "cell_type": "code",
      "source": [
        "<!DOCTYPE html>\n",
        "<html lang=\"en\">\n",
        "<head>\n",
        "<meta charset=\"UTF-8\">\n",
        "<meta name=\"viewport\" content=\"width=device-width,initial-scale=1.0\">\n",
        "<title>circular image</title>\n",
        "<style>\n",
        ".circular-image {\n",
        "    width:200px;\n",
        "    height:200px;\n",
        "    border-radius:50%;\n",
        "}\n",
        "</style>\n",
        "</head>\n",
        "<body>\n",
        "<img src=\"https://images.pexels.com/photos/736230/pexels-photo-736230.jpeg?cs=srgb&dl=pexels-jonaskakaroto-736230.jpg&fm=jpg\"alt=\"rose\" class=\"circular-image\">\n",
        "</body>\n",
        "</html>\n"
      ],
      "metadata": {
        "id": "WeS2-BpyMCAZ"
      },
      "execution_count": null,
      "outputs": []
    },
    {
      "cell_type": "markdown",
      "source": [
        "5.Create a simple blog website about Google fonts. The webpage must have the heading with “Oswald” font\n",
        "align center to the page, below the heading havean image of Google fonts and a paragraph about Google\n",
        "fonts in font “Montserrat” paragraph font style should be“montserrat” font.\n",
        "-"
      ],
      "metadata": {
        "id": "mtVxqnY_6MET"
      }
    },
    {
      "cell_type": "code",
      "source": [
        "<!DOCTYPE html>\n",
        "<html lang=\"en\">\n",
        "<head>\n",
        "<meta charset=\"UTF-8\">\n",
        "<meta name=\"viewport\" content=\"width=device-width,initial-scale=1.0\">\n",
        "<title>Google font</title>\n",
        "<link rel=\"preconnect\" href=\"https://fonts.googleapis.com\">\n",
        "<link rel=\"preconnect\" href=\"https://fonts.gstatic.com\" crossorigin>\n",
        "<link href=\"https://fonts.googleapis.com/css2?family=Montserrat:ital,wght@0,100..900;1,100..900&display=swap\" rel=\"stylesheet\">\n",
        "<style>\n",
        "h1 {\n",
        "    font family:'Oswald',sans-serif;\n",
        "    text-align:centre;\n",
        "}\n",
        "p {\n",
        "    font-family:'Montserrat',sans-serif;\n",
        "}\n",
        "centre-image {\n",
        "    width:20px;\n",
        "    height:20px;\n",
        "    display:block;\n",
        "    margin:auto;\n",
        "}\n",
        "</style>\n",
        "</head>\n",
        "<body>\n",
        "<h1>Google font</h1>\n",
        "<img src=\"https://www.gstatic.com/images/icons/material/apps/fonts/1x/catalog/v5/opengraph_color.png\"alt=\"google\" class=\"centre-image\">\n",
        "<p>\n",
        "Google Fonts is a free service offered by Google that provides a collection of web fonts that can be easily\n",
        "embedded into a website. These fonts are optimized for web use and can be easily incorporated into CSS code\n",
        "using a few lines of code.\n",
        "</p>\n",
        "</body>\n",
        "</html>\n"
      ],
      "metadata": {
        "id": "Jtau4HBvNmGS"
      },
      "execution_count": null,
      "outputs": []
    },
    {
      "cell_type": "markdown",
      "source": [
        "6. Create a simple website as mentioned in the below image.You can get the assets by visiting https://pwskills.com/about-us.\n",
        "-"
      ],
      "metadata": {
        "id": "6yj6Yf4laDHD"
      }
    },
    {
      "cell_type": "code",
      "source": [
        "<!DOCTYPE html>\n",
        "<html lang=\"en\">\n",
        "<head>\n",
        "<meta charset=\"UTF-8\">\n",
        "<meta name=\"viewport\" content=\"width=device-width,initial-scale=1.0\">\n",
        "<title>About us</title>\n",
        "<style>\n",
        "about {\n",
        "    width:100%;\n",
        "    max-width:200px;\n",
        "    position:absolute;\n",
        "    top:50%;\n",
        "    left:50%;\n",
        "}\n",
        "</style>\n",
        "</head>\n",
        "<body>\n",
        "<h1>\n",
        "<b> About us</b>\n",
        "</h1>\n",
        "<p>\n",
        "PW Skills' mission is to permeate through every student/professional's outlook towards jobs and change their attitude and perspective from \"How Can I Do It?\" to \"Of Course I Can Do It\". We aim to do this by providing exceptional up skilling courses at affordable rates, while being tech-forward so anyone, anywhere can access and improve their ability to be successful in life.\n",
        "</p>\n",
        "<img src=\"https://pwskills.com/images/aboutUs/aboutUs.png\"alt=\"pw\" class=\"about\">\n",
        "</body>\n",
        "</html>\n",
        "\n"
      ],
      "metadata": {
        "id": "awxPPfWtzn8m"
      },
      "execution_count": null,
      "outputs": []
    },
    {
      "cell_type": "markdown",
      "source": [
        "7. Create a simple webpage with a card similar to question number 2. The card must be semi-transparent as\n",
        "default and on hovering the card must be displayed clearly. Use CSS opacity to achieve this output.\n"
      ],
      "metadata": {
        "id": "VTJyqWCv38wh"
      }
    },
    {
      "cell_type": "code",
      "source": [
        "!<DOCTYPE html>\n",
        "<html lang =\"en\">\n",
        "<head>\n",
        "<meta charset=\"UTF-8\">\n",
        "<meta name=\"viewport\" content = \"width=device-width,intial-scale1.0\">\n",
        "<title>PW image</title>\n",
        "<style>\n",
        "img {\n",
        "    width:100%;\n",
        "   max-width-200px\n",
        "    position:absolute;\n",
        "    top:50%;\n",
        "    left:50%\n",
        "    transform:translate[50% 50%];\n",
        "    opacity:0.5;\n",
        "}\n",
        "img:hover{\n",
        "    background-color:green;\n",
        "    color:white;\n",
        "    opacity:1.0\n",
        "}\n",
        "</style>\n",
        "</head>\n",
        "<body>\n",
        "<img src=\"https://i.imgur.com/6oVk3bH.png\"alt=\"pw skills\">\n",
        "<p>\n",
        "<b>Course name</b>: PW skills full stack web development\n",
        "</p>\n",
        "</body>\n",
        "</html>"
      ],
      "metadata": {
        "collapsed": true,
        "id": "rZzRiwrg6Ijd"
      },
      "execution_count": null,
      "outputs": []
    },
    {
      "cell_type": "code",
      "source": [],
      "metadata": {
        "id": "so8ZLbCW9QL7"
      },
      "execution_count": null,
      "outputs": []
    },
    {
      "cell_type": "markdown",
      "source": [
        "8.Create a simple list of items as mentioned in the below image.\n"
      ],
      "metadata": {
        "id": "YIBH_g5i-iJO"
      }
    },
    {
      "cell_type": "code",
      "source": [
        "<!DOCTYPE html>\n",
        "<html lang=\"en\">\n",
        "<head>\n",
        "    <meta charset=\"UTF-8\">\n",
        "    <meta name=\"viewport\" content=\"width=device-width, initial-scale=1.0\">\n",
        "    <title>list item</title>\n",
        "    <style>\n",
        "     ol {\n",
        "            word-spacing: 5px;\n",
        "            font-size: 20px;\n",
        "\n",
        "        }\n",
        "    </style>\n",
        "     ad>\n",
        "<body>\n",
        "    <h1>Requirements</h1>\n",
        "    <ol type=\"i\">\n",
        "        <li>System with minimum i3 processor or better</li>\n",
        "        <li>At least 4 GB of RAM.</li>\n",
        "        <li>Working internet connection</li>\n",
        "        <li>Dedication to learn</li>\n",
        "          </ol>\n",
        "          </body>\n",
        "          </html>\n"
      ],
      "metadata": {
        "id": "nMCHMo2AFa9D"
      },
      "execution_count": null,
      "outputs": []
    }
  ]
}